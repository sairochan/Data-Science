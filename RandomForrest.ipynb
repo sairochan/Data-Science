{
  "nbformat": 4,
  "nbformat_minor": 0,
  "metadata": {
    "colab": {
      "provenance": []
    },
    "kernelspec": {
      "name": "python3",
      "display_name": "Python 3"
    },
    "language_info": {
      "name": "python"
    }
  },
  "cells": [
    {
      "cell_type": "code",
      "source": [
        "dataset['Sft_Price'].describe()"
      ],
      "metadata": {
        "colab": {
          "base_uri": "https://localhost:8080/"
        },
        "id": "25CJjeIiaGkk",
        "outputId": "8246ad55-19cb-4e43-e70f-5c5632a6b1e0"
      },
      "execution_count": null,
      "outputs": [
        {
          "output_type": "execute_result",
          "data": {
            "text/plain": [
              "count    38306.0\n",
              "mean       140.0\n",
              "std         80.0\n",
              "min          5.5\n",
              "25%         63.0\n",
              "50%        139.0\n",
              "75%        176.0\n",
              "max        399.0\n",
              "Name: Sft_Price, dtype: float64"
            ]
          },
          "metadata": {},
          "execution_count": 168
        }
      ]
    },
    {
      "cell_type": "code",
      "execution_count": null,
      "metadata": {
        "id": "psb1g_MgHLh0"
      },
      "outputs": [],
      "source": [
        "import pandas as pd\n",
        "import numpy as np\n",
        "import matplotlib.pyplot as plt\n",
        "import seaborn as sns\n",
        "\n",
        "\n",
        "dataset = pd.read_csv('v4.csv')\n",
        "dataset.rename(columns={'Total Living Area': 'Total_Living_Area'}, inplace=True)\n",
        "dataset['Total_Living_Area'] = dataset['Total_Living_Area'].astype('float64')\n",
        "dataset['Deed_Date'] = dataset['Deed_Date'].astype('datetime64[ns]')\n",
        "dataset['Council_District'] = dataset['Council_District'].astype('string')\n",
        "dataset['Police_District'] = dataset['Police_District'].astype('string')\n",
        "dataset['Neighborhood'] = dataset['Neighborhood'].astype('string')\n",
        "dataset['Print_Key'] = dataset['Print_Key'].astype('string')\n",
        "dataset['Street'] = dataset['Street'].astype('string')\n",
        "dataset['Front'] = dataset['Front'].astype('float64')\n",
        "dataset['Land_Value'] = dataset['Land_Value'].astype('float64')\n",
        "dataset['Total_Value'] = dataset['Total_Value'].astype('float64')\n",
        "dataset['Sale_Price'] = dataset['Sale_Price'].astype('float64')\n",
        "dataset['Year_Built'] = dataset['Year_Built'].astype('int64')\n",
        "dataset['Census_Tract'] = dataset['Census_Tract'].astype('float64')\n"
      ]
    },
    {
      "cell_type": "code",
      "source": [
        "from pandas.core.indexes.interval import date_range\n",
        "from scipy.optimize.lbfgsb import float64\n",
        "\n",
        "num_vars = ['Front', 'Depth', 'Beds','Total_Living_Area','Zipcode','Deed_Date']\n",
        "num_vars_y=['Total_Living_Area','Sale_Price']\n",
        "\n",
        "gt=dataset[num_vars];\n",
        "gt = gt[gt.Total_Living_Area != 0]\n",
        "gt = gt.reset_index(drop=True)\n",
        "bt = dataset[num_vars_y]\n",
        "bt = bt[bt.Total_Living_Area != 0]\n",
        "bt = bt.reset_index(drop=True)\n",
        "print(len(gt))\n",
        "print(len(bt))\n",
        "print(len(dataset))\n",
        "\n",
        "ddate=[];\n",
        "for i in range (gt.Deed_Date.size):\n",
        "    ddate.append(dataset.Deed_Date[i].year*100+dataset.Deed_Date[i].month);\n",
        "gt.Deed_Date=ddate\n",
        "\n",
        "yt=[]\n",
        "for i in range (bt.Total_Living_Area.size):\n",
        "   yt.append((bt.Sale_Price[i])/(bt.Total_Living_Area[i]))\n",
        "print(yt[592])\n",
        "\n",
        "saleprice=[]\n",
        "for i in range (bt.Total_Living_Area.size):\n",
        "   saleprice.append((bt.Sale_Price[i]))\n",
        "print(saleprice[592])\n",
        "gt.head()"
      ],
      "metadata": {
        "colab": {
          "base_uri": "https://localhost:8080/",
          "height": 293
        },
        "id": "Ya7BoVGYIZbo",
        "outputId": "e2554773-1c8a-45e3-aa91-5a7437b17d0b"
      },
      "execution_count": null,
      "outputs": [
        {
          "output_type": "stream",
          "name": "stdout",
          "text": [
            "38305\n",
            "38305\n",
            "38306\n",
            "160.37390029325513\n",
            "437500.0\n"
          ]
        },
        {
          "output_type": "execute_result",
          "data": {
            "text/plain": [
              "   Front   Depth  Beds  Total_Living_Area  Zipcode  Deed_Date\n",
              "0  25.00   53.55     3             2185.0    14202     201209\n",
              "1  27.08   33.00     4             1620.0    14201     201709\n",
              "2  25.00   46.33     2             1700.0    14202     201911\n",
              "3  25.50   33.00     3             1700.0    14201     201611\n",
              "4  32.50  126.00     2             1232.0    14220     202109"
            ],
            "text/html": [
              "\n",
              "  <div id=\"df-e56e1bd5-b4e9-4daf-beb2-3d918eb2016b\">\n",
              "    <div class=\"colab-df-container\">\n",
              "      <div>\n",
              "<style scoped>\n",
              "    .dataframe tbody tr th:only-of-type {\n",
              "        vertical-align: middle;\n",
              "    }\n",
              "\n",
              "    .dataframe tbody tr th {\n",
              "        vertical-align: top;\n",
              "    }\n",
              "\n",
              "    .dataframe thead th {\n",
              "        text-align: right;\n",
              "    }\n",
              "</style>\n",
              "<table border=\"1\" class=\"dataframe\">\n",
              "  <thead>\n",
              "    <tr style=\"text-align: right;\">\n",
              "      <th></th>\n",
              "      <th>Front</th>\n",
              "      <th>Depth</th>\n",
              "      <th>Beds</th>\n",
              "      <th>Total_Living_Area</th>\n",
              "      <th>Zipcode</th>\n",
              "      <th>Deed_Date</th>\n",
              "    </tr>\n",
              "  </thead>\n",
              "  <tbody>\n",
              "    <tr>\n",
              "      <th>0</th>\n",
              "      <td>25.00</td>\n",
              "      <td>53.55</td>\n",
              "      <td>3</td>\n",
              "      <td>2185.0</td>\n",
              "      <td>14202</td>\n",
              "      <td>201209</td>\n",
              "    </tr>\n",
              "    <tr>\n",
              "      <th>1</th>\n",
              "      <td>27.08</td>\n",
              "      <td>33.00</td>\n",
              "      <td>4</td>\n",
              "      <td>1620.0</td>\n",
              "      <td>14201</td>\n",
              "      <td>201709</td>\n",
              "    </tr>\n",
              "    <tr>\n",
              "      <th>2</th>\n",
              "      <td>25.00</td>\n",
              "      <td>46.33</td>\n",
              "      <td>2</td>\n",
              "      <td>1700.0</td>\n",
              "      <td>14202</td>\n",
              "      <td>201911</td>\n",
              "    </tr>\n",
              "    <tr>\n",
              "      <th>3</th>\n",
              "      <td>25.50</td>\n",
              "      <td>33.00</td>\n",
              "      <td>3</td>\n",
              "      <td>1700.0</td>\n",
              "      <td>14201</td>\n",
              "      <td>201611</td>\n",
              "    </tr>\n",
              "    <tr>\n",
              "      <th>4</th>\n",
              "      <td>32.50</td>\n",
              "      <td>126.00</td>\n",
              "      <td>2</td>\n",
              "      <td>1232.0</td>\n",
              "      <td>14220</td>\n",
              "      <td>202109</td>\n",
              "    </tr>\n",
              "  </tbody>\n",
              "</table>\n",
              "</div>\n",
              "      <button class=\"colab-df-convert\" onclick=\"convertToInteractive('df-e56e1bd5-b4e9-4daf-beb2-3d918eb2016b')\"\n",
              "              title=\"Convert this dataframe to an interactive table.\"\n",
              "              style=\"display:none;\">\n",
              "        \n",
              "  <svg xmlns=\"http://www.w3.org/2000/svg\" height=\"24px\"viewBox=\"0 0 24 24\"\n",
              "       width=\"24px\">\n",
              "    <path d=\"M0 0h24v24H0V0z\" fill=\"none\"/>\n",
              "    <path d=\"M18.56 5.44l.94 2.06.94-2.06 2.06-.94-2.06-.94-.94-2.06-.94 2.06-2.06.94zm-11 1L8.5 8.5l.94-2.06 2.06-.94-2.06-.94L8.5 2.5l-.94 2.06-2.06.94zm10 10l.94 2.06.94-2.06 2.06-.94-2.06-.94-.94-2.06-.94 2.06-2.06.94z\"/><path d=\"M17.41 7.96l-1.37-1.37c-.4-.4-.92-.59-1.43-.59-.52 0-1.04.2-1.43.59L10.3 9.45l-7.72 7.72c-.78.78-.78 2.05 0 2.83L4 21.41c.39.39.9.59 1.41.59.51 0 1.02-.2 1.41-.59l7.78-7.78 2.81-2.81c.8-.78.8-2.07 0-2.86zM5.41 20L4 18.59l7.72-7.72 1.47 1.35L5.41 20z\"/>\n",
              "  </svg>\n",
              "      </button>\n",
              "      \n",
              "  <style>\n",
              "    .colab-df-container {\n",
              "      display:flex;\n",
              "      flex-wrap:wrap;\n",
              "      gap: 12px;\n",
              "    }\n",
              "\n",
              "    .colab-df-convert {\n",
              "      background-color: #E8F0FE;\n",
              "      border: none;\n",
              "      border-radius: 50%;\n",
              "      cursor: pointer;\n",
              "      display: none;\n",
              "      fill: #1967D2;\n",
              "      height: 32px;\n",
              "      padding: 0 0 0 0;\n",
              "      width: 32px;\n",
              "    }\n",
              "\n",
              "    .colab-df-convert:hover {\n",
              "      background-color: #E2EBFA;\n",
              "      box-shadow: 0px 1px 2px rgba(60, 64, 67, 0.3), 0px 1px 3px 1px rgba(60, 64, 67, 0.15);\n",
              "      fill: #174EA6;\n",
              "    }\n",
              "\n",
              "    [theme=dark] .colab-df-convert {\n",
              "      background-color: #3B4455;\n",
              "      fill: #D2E3FC;\n",
              "    }\n",
              "\n",
              "    [theme=dark] .colab-df-convert:hover {\n",
              "      background-color: #434B5C;\n",
              "      box-shadow: 0px 1px 3px 1px rgba(0, 0, 0, 0.15);\n",
              "      filter: drop-shadow(0px 1px 2px rgba(0, 0, 0, 0.3));\n",
              "      fill: #FFFFFF;\n",
              "    }\n",
              "  </style>\n",
              "\n",
              "      <script>\n",
              "        const buttonEl =\n",
              "          document.querySelector('#df-e56e1bd5-b4e9-4daf-beb2-3d918eb2016b button.colab-df-convert');\n",
              "        buttonEl.style.display =\n",
              "          google.colab.kernel.accessAllowed ? 'block' : 'none';\n",
              "\n",
              "        async function convertToInteractive(key) {\n",
              "          const element = document.querySelector('#df-e56e1bd5-b4e9-4daf-beb2-3d918eb2016b');\n",
              "          const dataTable =\n",
              "            await google.colab.kernel.invokeFunction('convertToInteractive',\n",
              "                                                     [key], {});\n",
              "          if (!dataTable) return;\n",
              "\n",
              "          const docLinkHtml = 'Like what you see? Visit the ' +\n",
              "            '<a target=\"_blank\" href=https://colab.research.google.com/notebooks/data_table.ipynb>data table notebook</a>'\n",
              "            + ' to learn more about interactive tables.';\n",
              "          element.innerHTML = '';\n",
              "          dataTable['output_type'] = 'display_data';\n",
              "          await google.colab.output.renderOutput(dataTable, element);\n",
              "          const docLink = document.createElement('div');\n",
              "          docLink.innerHTML = docLinkHtml;\n",
              "          element.appendChild(docLink);\n",
              "        }\n",
              "      </script>\n",
              "    </div>\n",
              "  </div>\n",
              "  "
            ]
          },
          "metadata": {},
          "execution_count": 3
        }
      ]
    },
    {
      "cell_type": "code",
      "source": [
        "sum=0\n",
        "for i in range(0,38305):\n",
        "  if(dataset.Zipcode[i]==14215):\n",
        "    sum=sum+1\n",
        "print(sum)\n"
      ],
      "metadata": {
        "colab": {
          "base_uri": "https://localhost:8080/"
        },
        "id": "mrcHE_YPRRuC",
        "outputId": "0dc2304a-4bb9-4dcd-a8bf-b22fde800cad"
      },
      "execution_count": null,
      "outputs": [
        {
          "output_type": "stream",
          "name": "stdout",
          "text": [
            "5837\n"
          ]
        }
      ]
    },
    {
      "cell_type": "code",
      "source": [
        "dataset.Zipcode"
      ],
      "metadata": {
        "colab": {
          "base_uri": "https://localhost:8080/"
        },
        "id": "3bqdItd-Spgj",
        "outputId": "668d339e-4480-4bfb-a9cd-f2a77f88ccda"
      },
      "execution_count": null,
      "outputs": [
        {
          "output_type": "execute_result",
          "data": {
            "text/plain": [
              "0        14202\n",
              "1        14201\n",
              "2        14202\n",
              "3        14201\n",
              "4        14220\n",
              "         ...  \n",
              "38301    14211\n",
              "38302    14210\n",
              "38303    14207\n",
              "38304    14215\n",
              "38305    14206\n",
              "Name: Zipcode, Length: 38306, dtype: int64"
            ]
          },
          "metadata": {},
          "execution_count": 68
        }
      ]
    },
    {
      "cell_type": "code",
      "source": [
        "from sklearn.model_selection import train_test_split\n",
        "X_train, X_test, Y_train, Y_test = train_test_split(dataset.Sft_Price,dataset.Zipcode, test_size = 1/4, random_state = 0)"
      ],
      "metadata": {
        "id": "eMFi0IdTIrfm"
      },
      "execution_count": null,
      "outputs": []
    },
    {
      "cell_type": "code",
      "source": [
        "from sklearn.ensemble import RandomForestClassifier\n",
        "classifier = RandomForestClassifier(n_estimators = 10, criterion = 'entropy', random_state = 0)\n",
        "classifier.fit(X_train.values.reshape(-1,1), Y_train)"
      ],
      "metadata": {
        "colab": {
          "base_uri": "https://localhost:8080/"
        },
        "id": "ntTb0EjcIsqW",
        "outputId": "de37fd39-386d-41ba-df9d-0950f433510f"
      },
      "execution_count": null,
      "outputs": [
        {
          "output_type": "execute_result",
          "data": {
            "text/plain": [
              "RandomForestClassifier(criterion='entropy', n_estimators=10, random_state=0)"
            ]
          },
          "metadata": {},
          "execution_count": 45
        }
      ]
    },
    {
      "cell_type": "code",
      "source": [
        "zipcodes_sprice=[]\n",
        "sprice_zips=[]\n",
        "\n",
        "for j in range(14200,14230):\n",
        "  count=0\n",
        "  sum=0\n",
        "  for i in range(1,400):\n",
        "    if(classifier.predict([[i]])[0]==j and classifier.predict([[i]])[0]!= 14212\n",
        "       and classifier.predict([[i]])[0]!= 14215\n",
        "       and classifier.predict([[i]])[0]!= 14216\n",
        "       and classifier.predict([[i]])[0]!= 14220\n",
        "       and classifier.predict([[i]])[0]!= 14203):\n",
        "      count=count+1;\n",
        "      sum=sum+i;\n",
        "  if(count!=0):\n",
        "    zipcodes_sprice.append(str(j))\n",
        "    sprice_zips.append(sum/count)\n",
        "\n",
        "print(zipcodes_sprice)\n",
        "\n",
        "# print(classifier.predict([[i]])[0])\n",
        "\n",
        "\n",
        "\n"
      ],
      "metadata": {
        "colab": {
          "base_uri": "https://localhost:8080/"
        },
        "id": "ZGi7TaJVJW9_",
        "outputId": "630d742e-f26c-4a52-b0dd-f85700d072f1"
      },
      "execution_count": null,
      "outputs": [
        {
          "output_type": "stream",
          "name": "stdout",
          "text": [
            "['14201', '14202', '14206', '14208', '14209', '14211', '14213', '14214', '14222']\n"
          ]
        }
      ]
    },
    {
      "cell_type": "code",
      "source": [],
      "metadata": {
        "colab": {
          "base_uri": "https://localhost:8080/",
          "height": 166
        },
        "id": "FwFWZJmGUBOO",
        "outputId": "f1bbadb1-c237-49ed-c4c3-b32250af7747"
      },
      "execution_count": null,
      "outputs": [
        {
          "output_type": "error",
          "ename": "AttributeError",
          "evalue": "ignored",
          "traceback": [
            "\u001b[0;31m---------------------------------------------------------------------------\u001b[0m",
            "\u001b[0;31mAttributeError\u001b[0m                            Traceback (most recent call last)",
            "\u001b[0;32m<ipython-input-79-2fadd610af83>\u001b[0m in \u001b[0;36m<module>\u001b[0;34m\u001b[0m\n\u001b[0;32m----> 1\u001b[0;31m \u001b[0mzips\u001b[0m\u001b[0;34m.\u001b[0m\u001b[0msize\u001b[0m\u001b[0;34m\u001b[0m\u001b[0;34m\u001b[0m\u001b[0m\n\u001b[0m",
            "\u001b[0;31mAttributeError\u001b[0m: 'list' object has no attribute 'size'"
          ]
        }
      ]
    },
    {
      "cell_type": "code",
      "source": [
        "plt.scatter(zipcodes_sprice,sprice_zips)"
      ],
      "metadata": {
        "colab": {
          "base_uri": "https://localhost:8080/",
          "height": 282
        },
        "id": "jhQ1BqSIJ1W8",
        "outputId": "26dc3e78-dae9-43a0-bf46-69f5f1cbad6b"
      },
      "execution_count": null,
      "outputs": [
        {
          "output_type": "execute_result",
          "data": {
            "text/plain": [
              "<matplotlib.collections.PathCollection at 0x7f112ba19a90>"
            ]
          },
          "metadata": {},
          "execution_count": 102
        },
        {
          "output_type": "display_data",
          "data": {
            "text/plain": [
              "<Figure size 432x288 with 1 Axes>"
            ],
            "image/png": "[encoded data removed]"
          },
          "metadata": {
            "needs_background": "light"
          }
        }
      ]
    },
    {
      "cell_type": "code",
      "source": [
        "print(zipcodes_sprice)\n",
        "sprice_zips"
      ],
      "metadata": {
        "colab": {
          "base_uri": "https://localhost:8080/"
        },
        "id": "YIE5DdRTWic2",
        "outputId": "e2f7dd5a-a78e-4158-bbe9-a3b748b41411"
      },
      "execution_count": null,
      "outputs": [
        {
          "output_type": "stream",
          "name": "stdout",
          "text": [
            "['14201', '14202', '14206', '14208', '14209', '14211', '14213', '14214', '14222']\n"
          ]
        },
        {
          "output_type": "execute_result",
          "data": {
            "text/plain": [
              "[267.2830188679245,\n",
              " 266.578125,\n",
              " 246.0,\n",
              " 153.0,\n",
              " 210.35714285714286,\n",
              " 261.0,\n",
              " 176.44444444444446,\n",
              " 144.0,\n",
              " 186.11475409836066]"
            ]
          },
          "metadata": {},
          "execution_count": 100
        }
      ]
    },
    {
      "cell_type": "code",
      "source": [
        "import matplotlib.pyplot as plt\n",
        "fig = plt.figure()\n",
        "ax = fig.add_axes([0,0,1,1])\n",
        "ax.bar(zipcodes_sprice,sprice_zips)\n",
        "plt.show()"
      ],
      "metadata": {
        "colab": {
          "base_uri": "https://localhost:8080/",
          "height": 336
        },
        "id": "m6ZcvDasWZer",
        "outputId": "b6fb5e23-4424-4c97-e0fd-8856055dfd71"
      },
      "execution_count": null,
      "outputs": [
        {
          "output_type": "display_data",
          "data": {
            "text/plain": [
              "<Figure size 432x288 with 1 Axes>"
            ],
            "image/png": "[encoded data removed]"
          },
          "metadata": {
            "needs_background": "light"
          }
        }
      ]
    },
    {
      "cell_type": "code",
      "source": [
        "\n",
        "# creating the dataset\n",
        "\n",
        "fig = plt.figure(figsize = (10, 5))\n",
        "\n",
        "# creating the bar plot\n",
        "plt.bar(zipcodes_sprice, sprice_zips, color ='maroon',\n",
        "        width = 0.4)\n",
        "\n",
        "plt.xlabel(\"Courses offered\")\n",
        "plt.ylabel(\"No. of students enrolled\")\n",
        "plt.title(\"Students enrolled in different courses\")\n",
        "plt.show()"
      ],
      "metadata": {
        "colab": {
          "base_uri": "https://localhost:8080/",
          "height": 350
        },
        "id": "zwVnZbhFXPe3",
        "outputId": "4167bc9e-8eff-40da-9ce3-dc76cd58e354"
      },
      "execution_count": null,
      "outputs": [
        {
          "output_type": "display_data",
          "data": {
            "text/plain": [
              "<Figure size 720x360 with 1 Axes>"
            ],
            "image/png": "[encoded data removed]"
          },
          "metadata": {
            "needs_background": "light"
          }
        }
      ]
    }
  ]
}