{
  "nbformat": 4,
  "nbformat_minor": 0,
  "metadata": {
    "colab": {
      "provenance": []
    },
    "kernelspec": {
      "name": "python3",
      "display_name": "Python 3"
    },
    "language_info": {
      "name": "python"
    }
  },
  "cells": [
    {
      "cell_type": "code",
      "source": [
        "import pandas as pd\n",
        "import numpy as np\n",
        "import matplotlib.pyplot as plt\n",
        "import seaborn as sns\n",
        "\n",
        "\n",
        "dataset = pd.read_csv('v4.csv')\n",
        "dataset.rename(columns={'Total Living Area': 'Total_Living_Area'}, inplace=True)\n",
        "dataset['Total_Living_Area'] = dataset['Total_Living_Area'].astype('float64')\n",
        "dataset['Deed_Date'] = dataset['Deed_Date'].astype('datetime64[ns]')\n",
        "dataset['Council_District'] = dataset['Council_District'].astype('string')\n",
        "dataset['Police_District'] = dataset['Police_District'].astype('string')\n",
        "dataset['Neighborhood'] = dataset['Neighborhood'].astype('string')\n",
        "dataset['Print_Key'] = dataset['Print_Key'].astype('string')\n",
        "dataset['Street'] = dataset['Street'].astype('string')\n",
        "dataset['Front'] = dataset['Front'].astype('float64')\n",
        "dataset['Land_Value'] = dataset['Land_Value'].astype('float64')\n",
        "dataset['Total_Value'] = dataset['Total_Value'].astype('float64')\n",
        "dataset['Sale_Price'] = dataset['Sale_Price'].astype('float64')\n",
        "dataset['Year_Built'] = dataset['Year_Built'].astype('int64')\n",
        "dataset['Census_Tract'] = dataset['Census_Tract'].astype('float64')\n"
      ],
      "metadata": {
        "id": "R0MzvFToMb0j"
      },
      "execution_count": null,
      "outputs": []
    },
    {
      "cell_type": "code",
      "source": [
        "for i in range(0,38300):\n",
        "  if(dataset['Overall_Condition'][i]==0):\n",
        "    print(i)"
      ],
      "metadata": {
        "id": "J2SepHBSOG3c"
      },
      "execution_count": null,
      "outputs": []
    },
    {
      "cell_type": "code",
      "source": [
        "num_vars=['Basement_Type','Zipcode','Sale_Price','Total_Living_Area','Year_Built']\n",
        "from sklearn.model_selection import train_test_split\n",
        "X_train, X_test, Y_train, Y_test = train_test_split(dataset[num_vars],dataset.Overall_Condition, test_size = 1/4, random_state = 0)"
      ],
      "metadata": {
        "id": "8leV5_lVMROY"
      },
      "execution_count": null,
      "outputs": []
    },
    {
      "cell_type": "code",
      "execution_count": null,
      "metadata": {
        "colab": {
          "base_uri": "https://localhost:8080/"
        },
        "id": "iZcPZvTsHRKs",
        "outputId": "71740fae-b0ac-4f1c-eadf-9947e406c0cb"
      },
      "outputs": [
        {
          "output_type": "execute_result",
          "data": {
            "text/plain": [
              "0.3885350318471338"
            ]
          },
          "metadata": {},
          "execution_count": 127
        }
      ],
      "source": [
        "from sklearn.ensemble import AdaBoostClassifier\n",
        "from sklearn.datasets import make_classification\n",
        "clf = AdaBoostClassifier(n_estimators=50, learning_rate=1, random_state=0)\n",
        "clf.fit(X_train,Y_train)\n",
        "clf.score(X_test, Y_test)"
      ]
    },
    {
      "cell_type": "code",
      "source": [
        "num_vars.append('Beds')\n",
        "dataset[num_vars]"
      ],
      "metadata": {
        "colab": {
          "base_uri": "https://localhost:8080/",
          "height": 424
        },
        "id": "FWGz64b_SQyR",
        "outputId": "42b2e32d-685d-487f-d679-69d5e0ca2144"
      },
      "execution_count": null,
      "outputs": [
        {
          "output_type": "execute_result",
          "data": {
            "text/plain": [
              "       Basement_Type  Zipcode  Sale_Price  Total_Living_Area  Year_Built  Beds\n",
              "0                  1    14202    533765.0             2185.0        1982     3\n",
              "1                  4    14201    355000.0             1620.0        1929     4\n",
              "2                  4    14202    455000.0             1700.0        1988     2\n",
              "3                  4    14201    329000.0             1700.0        1929     3\n",
              "4                  4    14220   1597618.0             1232.0        1928     2\n",
              "...              ...      ...         ...                ...         ...   ...\n",
              "38301              2    14211     15000.0             1226.0        1901     4\n",
              "38302              3    14210     22000.0             2226.0        1925     6\n",
              "38303              4    14207     16500.0             1561.0        1926     5\n",
              "38304              3    14215     27500.0             2206.0        1920     5\n",
              "38305              2    14206     16500.0             1571.0        1925     3\n",
              "\n",
              "[38306 rows x 6 columns]"
            ],
            "text/html": [
              "\n",
              "  <div id=\"df-fce44c1e-dea2-423d-91fd-e93af969e23a\">\n",
              "    <div class=\"colab-df-container\">\n",
              "      <div>\n",
              "<style scoped>\n",
              "    .dataframe tbody tr th:only-of-type {\n",
              "        vertical-align: middle;\n",
              "    }\n",
              "\n",
              "    .dataframe tbody tr th {\n",
              "        vertical-align: top;\n",
              "    }\n",
              "\n",
              "    .dataframe thead th {\n",
              "        text-align: right;\n",
              "    }\n",
              "</style>\n",
              "<table border=\"1\" class=\"dataframe\">\n",
              "  <thead>\n",
              "    <tr style=\"text-align: right;\">\n",
              "      <th></th>\n",
              "      <th>Basement_Type</th>\n",
              "      <th>Zipcode</th>\n",
              "      <th>Sale_Price</th>\n",
              "      <th>Total_Living_Area</th>\n",
              "      <th>Year_Built</th>\n",
              "      <th>Beds</th>\n",
              "    </tr>\n",
              "  </thead>\n",
              "  <tbody>\n",
              "    <tr>\n",
              "      <th>0</th>\n",
              "      <td>1</td>\n",
              "      <td>14202</td>\n",
              "      <td>533765.0</td>\n",
              "      <td>2185.0</td>\n",
              "      <td>1982</td>\n",
              "      <td>3</td>\n",
              "    </tr>\n",
              "    <tr>\n",
              "      <th>1</th>\n",
              "      <td>4</td>\n",
              "      <td>14201</td>\n",
              "      <td>355000.0</td>\n",
              "      <td>1620.0</td>\n",
              "      <td>1929</td>\n",
              "      <td>4</td>\n",
              "    </tr>\n",
              "    <tr>\n",
              "      <th>2</th>\n",
              "      <td>4</td>\n",
              "      <td>14202</td>\n",
              "      <td>455000.0</td>\n",
              "      <td>1700.0</td>\n",
              "      <td>1988</td>\n",
              "      <td>2</td>\n",
              "    </tr>\n",
              "    <tr>\n",
              "      <th>3</th>\n",
              "      <td>4</td>\n",
              "      <td>14201</td>\n",
              "      <td>329000.0</td>\n",
              "      <td>1700.0</td>\n",
              "      <td>1929</td>\n",
              "      <td>3</td>\n",
              "    </tr>\n",
              "    <tr>\n",
              "      <th>4</th>\n",
              "      <td>4</td>\n",
              "      <td>14220</td>\n",
              "      <td>1597618.0</td>\n",
              "      <td>1232.0</td>\n",
              "      <td>1928</td>\n",
              "      <td>2</td>\n",
              "    </tr>\n",
              "    <tr>\n",
              "      <th>...</th>\n",
              "      <td>...</td>\n",
              "      <td>...</td>\n",
              "      <td>...</td>\n",
              "      <td>...</td>\n",
              "      <td>...</td>\n",
              "      <td>...</td>\n",
              "    </tr>\n",
              "    <tr>\n",
              "      <th>38301</th>\n",
              "      <td>2</td>\n",
              "      <td>14211</td>\n",
              "      <td>15000.0</td>\n",
              "      <td>1226.0</td>\n",
              "      <td>1901</td>\n",
              "      <td>4</td>\n",
              "    </tr>\n",
              "    <tr>\n",
              "      <th>38302</th>\n",
              "      <td>3</td>\n",
              "      <td>14210</td>\n",
              "      <td>22000.0</td>\n",
              "      <td>2226.0</td>\n",
              "      <td>1925</td>\n",
              "      <td>6</td>\n",
              "    </tr>\n",
              "    <tr>\n",
              "      <th>38303</th>\n",
              "      <td>4</td>\n",
              "      <td>14207</td>\n",
              "      <td>16500.0</td>\n",
              "      <td>1561.0</td>\n",
              "      <td>1926</td>\n",
              "      <td>5</td>\n",
              "    </tr>\n",
              "    <tr>\n",
              "      <th>38304</th>\n",
              "      <td>3</td>\n",
              "      <td>14215</td>\n",
              "      <td>27500.0</td>\n",
              "      <td>2206.0</td>\n",
              "      <td>1920</td>\n",
              "      <td>5</td>\n",
              "    </tr>\n",
              "    <tr>\n",
              "      <th>38305</th>\n",
              "      <td>2</td>\n",
              "      <td>14206</td>\n",
              "      <td>16500.0</td>\n",
              "      <td>1571.0</td>\n",
              "      <td>1925</td>\n",
              "      <td>3</td>\n",
              "    </tr>\n",
              "  </tbody>\n",
              "</table>\n",
              "<p>38306 rows × 6 columns</p>\n",
              "</div>\n",
              "      <button class=\"colab-df-convert\" onclick=\"convertToInteractive('df-fce44c1e-dea2-423d-91fd-e93af969e23a')\"\n",
              "              title=\"Convert this dataframe to an interactive table.\"\n",
              "              style=\"display:none;\">\n",
              "        \n",
              "  <svg xmlns=\"http://www.w3.org/2000/svg\" height=\"24px\"viewBox=\"0 0 24 24\"\n",
              "       width=\"24px\">\n",
              "    <path d=\"M0 0h24v24H0V0z\" fill=\"none\"/>\n",
              "    <path d=\"M18.56 5.44l.94 2.06.94-2.06 2.06-.94-2.06-.94-.94-2.06-.94 2.06-2.06.94zm-11 1L8.5 8.5l.94-2.06 2.06-.94-2.06-.94L8.5 2.5l-.94 2.06-2.06.94zm10 10l.94 2.06.94-2.06 2.06-.94-2.06-.94-.94-2.06-.94 2.06-2.06.94z\"/><path d=\"M17.41 7.96l-1.37-1.37c-.4-.4-.92-.59-1.43-.59-.52 0-1.04.2-1.43.59L10.3 9.45l-7.72 7.72c-.78.78-.78 2.05 0 2.83L4 21.41c.39.39.9.59 1.41.59.51 0 1.02-.2 1.41-.59l7.78-7.78 2.81-2.81c.8-.78.8-2.07 0-2.86zM5.41 20L4 18.59l7.72-7.72 1.47 1.35L5.41 20z\"/>\n",
              "  </svg>\n",
              "      </button>\n",
              "      \n",
              "  <style>\n",
              "    .colab-df-container {\n",
              "      display:flex;\n",
              "      flex-wrap:wrap;\n",
              "      gap: 12px;\n",
              "    }\n",
              "\n",
              "    .colab-df-convert {\n",
              "      background-color: #E8F0FE;\n",
              "      border: none;\n",
              "      border-radius: 50%;\n",
              "      cursor: pointer;\n",
              "      display: none;\n",
              "      fill: #1967D2;\n",
              "      height: 32px;\n",
              "      padding: 0 0 0 0;\n",
              "      width: 32px;\n",
              "    }\n",
              "\n",
              "    .colab-df-convert:hover {\n",
              "      background-color: #E2EBFA;\n",
              "      box-shadow: 0px 1px 2px rgba(60, 64, 67, 0.3), 0px 1px 3px 1px rgba(60, 64, 67, 0.15);\n",
              "      fill: #174EA6;\n",
              "    }\n",
              "\n",
              "    [theme=dark] .colab-df-convert {\n",
              "      background-color: #3B4455;\n",
              "      fill: #D2E3FC;\n",
              "    }\n",
              "\n",
              "    [theme=dark] .colab-df-convert:hover {\n",
              "      background-color: #434B5C;\n",
              "      box-shadow: 0px 1px 3px 1px rgba(0, 0, 0, 0.15);\n",
              "      filter: drop-shadow(0px 1px 2px rgba(0, 0, 0, 0.3));\n",
              "      fill: #FFFFFF;\n",
              "    }\n",
              "  </style>\n",
              "\n",
              "      <script>\n",
              "        const buttonEl =\n",
              "          document.querySelector('#df-fce44c1e-dea2-423d-91fd-e93af969e23a button.colab-df-convert');\n",
              "        buttonEl.style.display =\n",
              "          google.colab.kernel.accessAllowed ? 'block' : 'none';\n",
              "\n",
              "        async function convertToInteractive(key) {\n",
              "          const element = document.querySelector('#df-fce44c1e-dea2-423d-91fd-e93af969e23a');\n",
              "          const dataTable =\n",
              "            await google.colab.kernel.invokeFunction('convertToInteractive',\n",
              "                                                     [key], {});\n",
              "          if (!dataTable) return;\n",
              "\n",
              "          const docLinkHtml = 'Like what you see? Visit the ' +\n",
              "            '<a target=\"_blank\" href=https://colab.research.google.com/notebooks/data_table.ipynb>data table notebook</a>'\n",
              "            + ' to learn more about interactive tables.';\n",
              "          element.innerHTML = '';\n",
              "          dataTable['output_type'] = 'display_data';\n",
              "          await google.colab.output.renderOutput(dataTable, element);\n",
              "          const docLink = document.createElement('div');\n",
              "          docLink.innerHTML = docLinkHtml;\n",
              "          element.appendChild(docLink);\n",
              "        }\n",
              "      </script>\n",
              "    </div>\n",
              "  </div>\n",
              "  "
            ]
          },
          "metadata": {},
          "execution_count": 104
        }
      ]
    },
    {
      "cell_type": "code",
      "source": [
        "plt.scatter(X_test.Year_Built,clf.predict(X_test))"
      ],
      "metadata": {
        "colab": {
          "base_uri": "https://localhost:8080/",
          "height": 282
        },
        "id": "8wMwh0_ONlKG",
        "outputId": "ae4ccc33-5fbe-4fe8-93fa-79be44b486d3"
      },
      "execution_count": null,
      "outputs": [
        {
          "output_type": "execute_result",
          "data": {
            "text/plain": [
              "<matplotlib.collections.PathCollection at 0x7f099d943f40>"
            ]
          },
          "metadata": {},
          "execution_count": 142
        },
        {
          "output_type": "display_data",
          "data": {
            "text/plain": [
              "<Figure size 432x288 with 1 Axes>"
            ],
            "image/png": "[encoded data removed]"
          },
          "metadata": {
            "needs_background": "light"
          }
        }
      ]
    },
    {
      "cell_type": "code",
      "source": [
        "plt.scatter(X_test.Year_Built,Y_test)"
      ],
      "metadata": {
        "colab": {
          "base_uri": "https://localhost:8080/",
          "height": 282
        },
        "id": "h3s2jZuEacAl",
        "outputId": "34f7855c-63d8-45ca-9b4c-83122509c634"
      },
      "execution_count": null,
      "outputs": [
        {
          "output_type": "execute_result",
          "data": {
            "text/plain": [
              "<matplotlib.collections.PathCollection at 0x7f099ecbc8b0>"
            ]
          },
          "metadata": {},
          "execution_count": 143
        },
        {
          "output_type": "display_data",
          "data": {
            "text/plain": [
              "<Figure size 432x288 with 1 Axes>"
            ],
            "image/png": "[encoded data removed]"
          },
          "metadata": {
            "needs_background": "light"
          }
        }
      ]
    }
  ]
}